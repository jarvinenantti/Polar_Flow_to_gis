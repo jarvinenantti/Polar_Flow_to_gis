{
 "cells": [
  {
   "cell_type": "code",
   "execution_count": 2,
   "metadata": {},
   "outputs": [],
   "source": [
    "import json\n",
    "import pandas as pd\n",
    "import os\n",
    "from os.path import exists"
   ]
  },
  {
   "cell_type": "code",
   "execution_count": null,
   "metadata": {},
   "outputs": [],
   "source": [
    "# Define the directory to transform files within\n",
    "# directory = os.getcwd()\n",
    "directory = \"C:/Users/ajarvinen/OneDrive - KPMG/Desktop/polar-user-data-export_e8293a83-b2e8-47b9-9545-ea2de41e79bb/skiing\""
   ]
  },
  {
   "cell_type": "code",
   "execution_count": 6,
   "metadata": {},
   "outputs": [],
   "source": [
    "# Define the transformation function repeated to every json-file\n",
    "\n",
    "def transformJson(filename):\n",
    "\n",
    "    # Extract the time string\n",
    "    time = filename[17:38]\n",
    "\n",
    "    # Read json\n",
    "    f = open(filename)\n",
    "    data = json.load(f)\n",
    "\n",
    "    # Check the type of the training\n",
    "    sport = data['exercises'][0]['sport']\n",
    "\n",
    "    if sport == \"CYCLING\" or sport == \"CROSS-COUNTRY_SKIING\":\n",
    "        df_route = pd.json_normalize(data['exercises'][0]['samples']['recordedRoute'])\n",
    "        df_heartRate = pd.json_normalize(data['exercises'][0]['samples']['heartRate'])\n",
    "        df_speed = pd.json_normalize(data['exercises'][0]['samples']['speed'])\n",
    "        df_distance = pd.json_normalize(data['exercises'][0]['samples']['distance'])\n",
    "\n",
    "        # Create merged dataframe\n",
    "        merged = pd.merge(df_heartRate,df_speed,on=\"dateTime\")\n",
    "        merged = pd.merge(merged,df_distance,on=\"dateTime\")\n",
    "\n",
    "        # Create key columns based on seconds (rounded values)\n",
    "        s = df_route['dateTime'].astype(str)\n",
    "        df_route['key'] = s.str[0:19]\n",
    "\n",
    "        s = merged['dateTime'].astype(str)\n",
    "        merged['key'] = s.str[0:19]\n",
    "\n",
    "        # Merge all data - use outer join to preserve all data\n",
    "        merged = pd.merge(merged,df_route,on=\"key\",how=\"outer\")\n",
    "\n",
    "        # drop, rename, reorganize columns\n",
    "        merged = merged.drop(['dateTime_y'], axis=1)\n",
    "        merged = merged.rename(columns={\"value_x\": \"heartRate\", \"value_y\": \"speed\", \"value\" : \"distance\", \"dateTime_x\" : \"dateTime\"})\n",
    "        merged = merged[['key','dateTime','longitude','latitude','altitude','heartRate','speed','distance']]\n",
    "\n",
    "        # Write csv\n",
    "        name = directory+\"/\"+sport+\"_\"+time+\".csv\"\n",
    "        merged.to_csv(name,index=False)"
   ]
  },
  {
   "cell_type": "code",
   "execution_count": null,
   "metadata": {},
   "outputs": [],
   "source": [
    "# Iterate through all files in the folder\n",
    "for filename in os.listdir(directory):\n",
    "    if filename.endswith(\".json\") and \"training-session\" in filename: \n",
    "        transformJson(filename)\n",
    "        continue\n",
    "    else:\n",
    "        continue"
   ]
  }
 ],
 "metadata": {
  "kernelspec": {
   "display_name": "Python 3.8.5 ('base')",
   "language": "python",
   "name": "python3"
  },
  "language_info": {
   "codemirror_mode": {
    "name": "ipython",
    "version": 3
   },
   "file_extension": ".py",
   "mimetype": "text/x-python",
   "name": "python",
   "nbconvert_exporter": "python",
   "pygments_lexer": "ipython3",
   "version": "3.8.5"
  },
  "orig_nbformat": 4,
  "vscode": {
   "interpreter": {
    "hash": "ad2bdc8ecc057115af97d19610ffacc2b4e99fae6737bb82f5d7fb13d2f2c186"
   }
  }
 },
 "nbformat": 4,
 "nbformat_minor": 2
}
